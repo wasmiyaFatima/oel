{
  "nbformat": 4,
  "nbformat_minor": 0,
  "metadata": {
    "colab": {
      "provenance": []
    },
    "kernelspec": {
      "name": "python3",
      "display_name": "Python 3"
    },
    "language_info": {
      "name": "python"
    }
  },
  "cells": [
    {
      "cell_type": "code",
      "execution_count": 4,
      "metadata": {
        "id": "7Iw9fdW8Y3cI",
        "colab": {
          "base_uri": "https://localhost:8080/",
          "height": 106
        },
        "outputId": "90acac85-9ad8-405f-8072-b6dc003f06cc"
      },
      "outputs": [
        {
          "output_type": "error",
          "ename": "IndentationError",
          "evalue": "unindent does not match any outer indentation level (<tokenize>, line 33)",
          "traceback": [
            "\u001b[0;36m  File \u001b[0;32m\"<tokenize>\"\u001b[0;36m, line \u001b[0;32m33\u001b[0m\n\u001b[0;31m    return True\u001b[0m\n\u001b[0m    ^\u001b[0m\n\u001b[0;31mIndentationError\u001b[0m\u001b[0;31m:\u001b[0m unindent does not match any outer indentation level\n"
          ]
        }
      ],
      "source": [
        "def word_pattern(pattern, s):\n",
        "    # Split the string 's' into a list of words\n",
        "    words = s.split()\n",
        "\n",
        "    # If the number of words doesn't match the length of the pattern, it's an automatic no\n",
        "    if len(pattern) != len(words):\n",
        "        return False\n",
        "\n",
        "    # Create two dictionaries:\n",
        "    # 1. One to track the relationship from pattern letters to words\n",
        "    # 2. Another to track the relationship from words to pattern letters\n",
        "    pattern_to_word = {}\n",
        "    word_to_pattern = {}\n",
        "\n",
        "    # Go through each letter in the pattern and each word in the string\n",
        "name:wasmiya fatima\n",
        "23-ai-15 (A1)\n",
        "\n",
        "               \"EVEN\"\n",
        "\n",
        "for p, w in zip(pattern, words):\n",
        "        # If we've seen this pattern letter before, check if it maps to the same word\n",
        "        if p in pattern_to_word:\n",
        "            if pattern_to_word[p] != w:\n",
        "                return False  # A mismatch means it can't match the pattern\n",
        "        else:\n",
        "            pattern_to_word[p] = w  # Otherwise, create a new mapping for this letter\n",
        "\n",
        "        # Similarly, check if the word has been assigned a pattern letter\n",
        "        if w in word_to_pattern:\n",
        "            if word_to_pattern[w] != p:\n",
        "                return False  # If the word maps to a different pattern letter, it's not a match\n",
        "        else:\n",
        "            word_to_pattern[w] = p  # Otherwise, create a new mapping for this word\n",
        "\n",
        "    # If we reach here without mismatches, the pattern and string match perfectly\n",
        "    return True\n",
        "\n",
        "# Example usage\n",
        "pattern = \"abba\"\n",
        "s = \"dog cat cat dog\"\n",
        "print(word_pattern(pattern, s))  # Output: True\n"
      ]
    }
  ]
}